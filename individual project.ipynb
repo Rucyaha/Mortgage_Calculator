{
 "cells": [
  {
   "cell_type": "code",
   "execution_count": 1,
   "id": "f75ee313",
   "metadata": {},
   "outputs": [
    {
     "name": "stdout",
     "output_type": "stream",
     "text": [
      "Enter mortgage loan principal: $1000000\n",
      "Enter percent annual interest: 7.5\n",
      "Enter years to pay off mortgage: 30\n",
      "For a 30-year mortgage loan of $1000000.00\n",
      "at an annual interest rate of 7.50%\n",
      "you pay $6992.15 monthly\n",
      "----------------------------------------\n"
     ]
    }
   ],
   "source": [
    "# Mortgage calculator \n",
    " \n",
    "\n",
    "# Input \n",
    "\n",
    "principal = float(input(\"Enter mortgage loan principal: $\")) \n",
    "\n",
    "interest = float(input(\"Enter percent annual interest: \")) / 100 / 12 \n",
    "\n",
    "years = int(input(\"Enter years to pay off mortgage: \")) * 12 \n",
    "\n",
    " \n",
    "# Calculating monthly payment \n",
    "\n",
    "monthly_payment = principal * (interest * (1 + interest)**years) / ((1 + interest)**years - 1) \n",
    "\n",
    "\n",
    "# Calculating total amount paid \n",
    "\n",
    "total_amount_paid = monthly_payment * years \n",
    "\n",
    " \n",
    "# Final Output \n",
    "\n",
    "print(\"For a %d-year mortgage loan of $%.2f\" % (years/12, principal)) \n",
    "\n",
    "print(\"at an annual interest rate of %.2f%%\" % (interest*12*100)) \n",
    "\n",
    "print(\"you pay $%.2f monthly\" % monthly_payment) \n",
    "\n",
    "print(\"----------------------------------------\") "
   ]
  },
  {
   "cell_type": "code",
   "execution_count": null,
   "id": "0e0a5895",
   "metadata": {},
   "outputs": [],
   "source": []
  }
 ],
 "metadata": {
  "kernelspec": {
   "display_name": "Python 3 (ipykernel)",
   "language": "python",
   "name": "python3"
  },
  "language_info": {
   "codemirror_mode": {
    "name": "ipython",
    "version": 3
   },
   "file_extension": ".py",
   "mimetype": "text/x-python",
   "name": "python",
   "nbconvert_exporter": "python",
   "pygments_lexer": "ipython3",
   "version": "3.11.1"
  }
 },
 "nbformat": 4,
 "nbformat_minor": 5
}
